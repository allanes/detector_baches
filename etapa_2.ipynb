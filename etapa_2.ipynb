{
 "cells": [
  {
   "cell_type": "code",
   "execution_count": 4,
   "metadata": {},
   "outputs": [],
   "source": [
    "# Path to frozen detection graph. This is the actual model that is used for the object detection.\n",
    "PATH_TO_CKPT =  'pretrained_models/yolov5s_weights.pt' \n",
    "\n",
    "# List of the strings that is used to add correct label for each box.\n",
    "PATH_TO_LABELS = 'pretrained_models/crack_label_map.pbtxt'\n",
    "\n",
    "\n",
    "RUTA_RDD = \".\"\n",
    "CARPETAS_INTERES = [\"/China_Drone\", \"/China_MotorBike\", \"/Czech\", \"/India\", \"/Japan\", \"/Norway\", \"/United_States\"]\n",
    "CARPETAS_INTERES = [\"/DATA\"]\n",
    "CARPETA_SALIDA = []\n",
    "RUTA_IMAGENES = \"/train/images\"\n",
    "RUTA_ANOTACIONES_ORIGINALES = \"/train/annotations/xmls\"\n",
    "# RUTA_ANOTACIONES_SALIDA = f'{RUTA_RDD}/labels_salida'\n",
    "RUTA_ANOTACIONES_SALIDA = f'{RUTA_RDD}/DATA/labels_salida'\n",
    "ETIQUETAS_ENTRADA = [\"D00\",\"D01\",\"D10\",\"D11\",\"D20\",\"D40\",\"D43\",\"D44\", \"D50\", \"Repair\"]\n",
    "\n",
    "NUM_CLASSES = len(ETIQUETAS_ENTRADA)"
   ]
  },
  {
   "cell_type": "code",
   "execution_count": 3,
   "metadata": {},
   "outputs": [
    {
     "name": "stdout",
     "output_type": "stream",
     "text": [
      "Ejecutar:\n",
      "python ./yolov5/train.py --img 512 --batch 10 --epochs 10 --data ./data.yaml --weights pretrained_models/yolov5s_weights.pb --cfg ./custom_yolov5s.yaml\n"
     ]
    }
   ],
   "source": [
    "ESCALADO_IMAGEN = 512\n",
    "EPOCAS = 10\n",
    "DATA_YAML = './data.yaml'\n",
    "ARCHIVO_PESOS = PATH_TO_CKPT\n",
    "# ARCHIVO_PESOS = 'runs/train/exp3/weights/last.pt'\n",
    "CONFIG_YAML = './custom_yolov5s.yaml'\n",
    "cadena = f'python ./yolov5/train.py --img {ESCALADO_IMAGEN} --batch {NUM_CLASSES} --epochs {EPOCAS} --data {DATA_YAML} --weights {ARCHIVO_PESOS} --cfg {CONFIG_YAML}'\n",
    "print('Ejecutar:')\n",
    "print(cadena)"
   ]
  }
 ],
 "metadata": {
  "kernelspec": {
   "display_name": "Python 3.9.13 64-bit ('object_detection': conda)",
   "language": "python",
   "name": "python3"
  },
  "language_info": {
   "codemirror_mode": {
    "name": "ipython",
    "version": 3
   },
   "file_extension": ".py",
   "mimetype": "text/x-python",
   "name": "python",
   "nbconvert_exporter": "python",
   "pygments_lexer": "ipython3",
   "version": "3.9.13"
  },
  "orig_nbformat": 4,
  "vscode": {
   "interpreter": {
    "hash": "1cd0deddd348c527b562bd3d4c44d891f3a934129a3ca56cc41c73545b5f78dd"
   }
  }
 },
 "nbformat": 4,
 "nbformat_minor": 2
}
