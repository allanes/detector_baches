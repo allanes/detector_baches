{
 "cells": [
  {
   "cell_type": "markdown",
   "id": "c8ac155d",
   "metadata": {},
   "source": [
    "## Pre-procesamiento"
   ]
  },
  {
   "cell_type": "markdown",
   "id": "3275c1cd",
   "metadata": {},
   "source": [
    "### 1. Imports y constantes"
   ]
  },
  {
   "cell_type": "code",
   "execution_count": 1,
   "id": "f4005e01",
   "metadata": {},
   "outputs": [],
   "source": [
    "import os\n",
    "import sys\n",
    "import shutil\n",
    "import typing\n",
    "import glob\n",
    "\n",
    "import pandas as pd\n",
    "import numpy as np\n",
    "\n",
    "from math import floor\n",
    "from xml.etree import ElementTree\n",
    "import collections\n",
    "import seaborn as sns\n"
   ]
  },
  {
   "cell_type": "code",
   "execution_count": 3,
   "id": "a36672ce",
   "metadata": {},
   "outputs": [],
   "source": [
    "\n",
    "RUTA_RDD = \".\"\n",
    "CARPETAS_INTERES = [\"/China_Drone\", \"/China_MotorBike\", \"/Czech\", \"/India\", \"/Japan\", \"/Norway\", \"/United_States\"]\n",
    "CARPETAS_INTERES = [\"/DATA_borrar\"]\n",
    "CARPETA_SALIDA = []\n",
    "RUTA_IMAGENES = \"/train/images\"\n",
    "RUTA_ANOTACIONES_ORIGINALES = \"/train/annotations/xmls\"\n",
    "# RUTA_ANOTACIONES_SALIDA = f'{RUTA_RDD}/labels_salida'\n",
    "RUTA_ANOTACIONES_SALIDA = f'{RUTA_RDD}/DATA_borrar/labels_salida'\n",
    "ETIQUETAS_ENTRADA = [\"D00\",\"D01\",\"D10\",\"D11\",\"D20\",\"D40\",\"D43\",\"D44\", \"D50\", \"Repair\"]"
   ]
  },
  {
   "cell_type": "markdown",
   "id": "fb812ac9",
   "metadata": {},
   "source": [
    "### 2. Cantidad de imagenes, chequeo de anotaciones y distribución de etiquetas"
   ]
  },
  {
   "cell_type": "code",
   "execution_count": 9,
   "id": "fcd42c82",
   "metadata": {},
   "outputs": [
    {
     "name": "stdout",
     "output_type": "stream",
     "text": [
      "Cantidad de imagenes: 5010\n",
      "Todas las imagenes tienen anotaciones\n",
      "Background images (cantidad de archivos xml sin etiquetas): 393 (12.75%)\n",
      "Etiqueta adicional encontrada pero no declarada: BG\n"
     ]
    },
    {
     "name": "stderr",
     "output_type": "stream",
     "text": [
      "c:\\Users\\enime\\miniconda3\\envs\\object_detection\\lib\\site-packages\\seaborn\\categorical.py:470: FutureWarning: iteritems is deprecated and will be removed in a future version. Use .items instead.\n",
      "  plot_data = [np.asarray(s, float) for k, s in iter_data]\n"
     ]
    },
    {
     "data": {
      "text/plain": [
       "<AxesSubplot: >"
      ]
     },
     "execution_count": 9,
     "metadata": {},
     "output_type": "execute_result"
    },
    {
     "data": {
      "image/png": "[encoded data removed]",
      "text/plain": [
       "<Figure size 640x480 with 1 Axes>"
      ]
     },
     "metadata": {},
     "output_type": "display_data"
    }
   ],
   "source": [
    "# Mostrar cantidad de imagenes\n",
    "imagenes_por_pais = {}\n",
    "rutas_imagenes = []\n",
    "for pais in CARPETAS_INTERES:\n",
    "    rutas_imagenes.extend(os.listdir(f'{RUTA_RDD}/{pais}/{RUTA_IMAGENES}'))    \n",
    "    imagenes_por_pais[pais] = rutas_imagenes\n",
    "\n",
    "print(f'Cantidad de imagenes: {len(rutas_imagenes)}')\n",
    "\n",
    "# Chequear existencia de todas las anotaciones\n",
    "anotaciones = []\n",
    "ruta_anotacion = ''\n",
    "for pais in imagenes_por_pais:\n",
    "    for ruta in imagenes_por_pais[pais]:\n",
    "        # Chequear que exista la anotacion correspondiente\n",
    "        archivo_anotacion = '/' + os.path.splitext(ruta)[-2] + \".xml\"\n",
    "        ruta_anotacion = RUTA_RDD + pais + RUTA_ANOTACIONES_ORIGINALES + archivo_anotacion\n",
    "        if os.path.isfile(ruta_anotacion):\n",
    "            anotaciones.append(ruta_anotacion)\n",
    "            \n",
    "anotaciones_faltantes = len(rutas_imagenes) - len(anotaciones)\n",
    "if anotaciones_faltantes == 0:\n",
    "    print(\"Todas las imagenes tienen anotaciones\")\n",
    "else:\n",
    "    print(f'Faltan {anotaciones_faltantes} anotaciones')\n",
    "\n",
    "# Chequear etiquetas declaradas (ETIQUETAS_ENTRADA)\n",
    "cls_names = []\n",
    "anotaciones_sin_etiquetas = []\n",
    "for ruta_anotacion in anotaciones:\n",
    "    infile_xml = open(ruta_anotacion)\n",
    "    tree = ElementTree.parse(infile_xml)\n",
    "    root = tree.getroot()\n",
    "    \n",
    "    if root.find('object') is None: \n",
    "        anotaciones_sin_etiquetas.append(ruta_anotacion)\n",
    "        cls_names.append('BG')\n",
    "        continue\n",
    "    \n",
    "    for obj in root.iter('object'):\n",
    "        cls_name = obj.find('name').text\n",
    "        cls_names.append(cls_name)\n",
    "        \n",
    "    if cls_name == 'D0w0': print(f'revisar ruta {ruta_anotacion}')\n",
    "\n",
    "porcentaje:float = len(anotaciones) / len(anotaciones_sin_etiquetas)\n",
    "print(f'Background images (cantidad de archivos xml sin etiquetas): ' + \\\n",
    "    f'{len(anotaciones_sin_etiquetas)} ' + \\\n",
    "    f'({porcentaje:.2f}%)')\n",
    "\n",
    "\n",
    "count_dict = collections.Counter(cls_names)\n",
    "\n",
    "for clave in count_dict.keys():\n",
    "    if clave not in ETIQUETAS_ENTRADA: \n",
    "        print(f'Etiqueta adicional encontrada pero no declarada: {clave}')\n",
    "\n",
    "# Mostrar cantidad de ejemplos de cada etiqueta\n",
    "cls_dict = {}\n",
    "for damageType in cls_names:\n",
    "    cls_dict[damageType] = [count_dict[damageType]]\n",
    "df = pd.DataFrame.from_dict(cls_dict)\n",
    "\n",
    "# sns.set_palette(\"winter\", 8)\n",
    "sns.barplot(df)\n"
   ]
  },
  {
   "cell_type": "markdown",
   "id": "66a4bc31",
   "metadata": {},
   "source": [
    "### 3. Limpieza"
   ]
  },
  {
   "cell_type": "code",
   "execution_count": 10,
   "id": "393dccd4",
   "metadata": {},
   "outputs": [],
   "source": [
    "def copiar_xmls(anotaciones):\n",
    "    # Esta funcion copia los xmls validos\n",
    "    \n",
    "    lista = os.listdir(RUTA_ANOTACIONES_SALIDA)\n",
    "    for elemento in lista:\n",
    "        if not os.path.isdir(f'{RUTA_ANOTACIONES_SALIDA}/{elemento}'):\n",
    "            print(f'El directorio de salida no debe contener archivos. Ruta: {RUTA_ANOTACIONES_SALIDA}')\n",
    "            return\n",
    "    \n",
    "    for ruta_anotacion in anotaciones:        \n",
    "        nombre_archivo = os.path.split(ruta_anotacion)[1]\n",
    "        ruta_anotacion_destino = f'{RUTA_ANOTACIONES_SALIDA}/{nombre_archivo}'\n",
    "        shutil.copy(ruta_anotacion, ruta_anotacion_destino)\n",
    "\n",
    "def generar_txts(anotaciones_sin_etiquetas):\n",
    "    # Por un lado, se procesan las anotaciones vacias\n",
    "    for anotacion_vacia in anotaciones_sin_etiquetas:\n",
    "        nombre_archivo = os.path.split(anotacion_vacia)[1].split(\".\")[0]\n",
    "        # Genero txt vacio\n",
    "        with open(f'{RUTA_ANOTACIONES_SALIDA}/txts/{nombre_archivo}.txt', 'w'): pass\n",
    "        \n",
    "    # Por otro, se procesan las anotaciones validas\n",
    "    ruta_archivo_clases = './classes.txt'\n",
    "    with open(ruta_archivo_clases, 'w') as file:\n",
    "        [file.write(f'{clase}\\n') for clase in ETIQUETAS_ENTRADA]\n",
    "    \n",
    "    print('Ejecutar la siguiente linea en la consola del ambiente:')\n",
    "    print(f\"python XmlToTxt/xmltotxt.py -xml {RUTA_ANOTACIONES_SALIDA} -out {RUTA_ANOTACIONES_SALIDA}/txts -c {ruta_archivo_clases}\")\n",
    "    \n"
   ]
  },
  {
   "cell_type": "code",
   "execution_count": 12,
   "id": "f0edc800",
   "metadata": {},
   "outputs": [
    {
     "name": "stdout",
     "output_type": "stream",
     "text": [
      "Ejecutar la siguiente linea en la consola del ambiente:\n",
      "python XmlToTxt/xmltotxt.py -xml ./DATA/labels_salida -out ./DATA/labels_salida/txts -c classes.txt\n"
     ]
    }
   ],
   "source": [
    "anotaciones_validas:list = anotaciones.copy()\n",
    "[anotaciones_validas.remove(anotacion_invalida) for anotacion_invalida in anotaciones_sin_etiquetas]\n",
    "\n",
    "copiar_xmls(anotaciones_validas)\n",
    "generar_txts(anotaciones_sin_etiquetas)"
   ]
  },
  {
   "cell_type": "markdown",
   "id": "b772edec",
   "metadata": {},
   "source": [
    "Hasta acá tenemos los txt como los necesita yolo. Las aumentaciones se pueden hacer desde roboflow"
   ]
  },
  {
   "cell_type": "markdown",
   "id": "fc4dbd63",
   "metadata": {},
   "source": [
    "#### 3.1 Separacion del dataset"
   ]
  },
  {
   "cell_type": "code",
   "execution_count": null,
   "id": "e1edd709",
   "metadata": {},
   "outputs": [],
   "source": [
    "RUTA_IMAGENES_TEST = \"/test/images\"\n",
    "RUTA_ANOTACIONES_SALIDA_TEST = \"/test/labels\"\n",
    "RUTA_ANOTACIONES_SALIDA_TRAIN = \"/train/labels\"\n",
    "\n",
    "def separar_dataset(porcentaje_testing = 0.2):\n",
    "    lista_imagenes = os.listdir(f'{RUTA_ANOTACIONES_SALIDA}/txts')\n",
    "    cant_imagenes_testing = floor(porcentaje_testing * len(lista_imagenes))\n",
    "    np.random.shuffle(lista_imagenes)\n",
    "    lista_testing = lista_imagenes[0:cant_imagenes_testing]\n",
    "    lista_training = lista_imagenes[cant_imagenes_testing:]\n",
    "    \n",
    "    for archivo_anotacion in lista_testing:\n",
    "        # Mover imagen\n",
    "        imagen = archivo_anotacion.split(\".\")[0] + '.jpg'\n",
    "        ruta_origen = f'{RUTA_RDD}/{CARPETAS_INTERES[0]}/{RUTA_IMAGENES}/{imagen}'\n",
    "        ruta_destino = f'{RUTA_RDD}/{CARPETAS_INTERES[0]}/{RUTA_IMAGENES_TEST}/{imagen}'\n",
    "        shutil.move(ruta_origen, ruta_destino)\n",
    "        \n",
    "        # Mover anotacion\n",
    "        ruta_origen = f'{RUTA_ANOTACIONES_SALIDA}/txts/{archivo_anotacion}'\n",
    "        ruta_destino = f'{RUTA_RDD}/{CARPETAS_INTERES[0]}/{RUTA_ANOTACIONES_SALIDA_TEST}/{archivo_anotacion}'\n",
    "        shutil.move(ruta_origen, ruta_destino)\n",
    "        \n",
    "    for archivo_anotacion in lista_training:\n",
    "        # Mover anotacion\n",
    "        ruta_origen = f'{RUTA_ANOTACIONES_SALIDA}/txts/{archivo_anotacion}'\n",
    "        ruta_destino = f'{RUTA_RDD}/{CARPETAS_INTERES[0]}/{RUTA_ANOTACIONES_SALIDA_TRAIN}/{archivo_anotacion}'\n",
    "        shutil.move(ruta_origen, ruta_destino)\n",
    "\n",
    "separar_dataset(0.1)"
   ]
  },
  {
   "cell_type": "markdown",
   "id": "a3bea790",
   "metadata": {},
   "source": [
    "Listo para pasar a entrenamiento (etapa2) y/o subir a roboflow"
   ]
  },
  {
   "cell_type": "markdown",
   "id": "0619a95d",
   "metadata": {},
   "source": [
    "## Apéndice"
   ]
  },
  {
   "cell_type": "markdown",
   "id": "23df0d73",
   "metadata": {},
   "source": [
    "#### 3.2 Funcion para unir clases"
   ]
  },
  {
   "cell_type": "markdown",
   "id": "a7cd468c",
   "metadata": {},
   "source": [
    "#### 3.3 Funcion para quitar clases"
   ]
  },
  {
   "cell_type": "markdown",
   "id": "6d468924",
   "metadata": {},
   "source": [
    "#### 3.4 Armo un dataset reducido"
   ]
  },
  {
   "cell_type": "code",
   "execution_count": null,
   "id": "fbdd1a88",
   "metadata": {},
   "outputs": [],
   "source": [
    "def ruta_imagen_desde_ruta_anotacion(ruta_anotacion:str) -> str:\n",
    "    RUTA_DATASET_REDUCIDO = 'Japan_reduced'\n",
    "    _, nombre_archivo = os.path.split(ruta_anotacion)\n",
    "    nombre_archivo = os.path.splitext(nombre_archivo)[0] + '.jpg'\n",
    "    ruta_base_destino = os.path.join(RUTA_RDD, RUTA_DATASET_REDUCIDO, RUTA_IMAGENES)\n",
    "    ruta_imagen_destino = os.path.join(ruta_base_destino, nombre_archivo)\n",
    "    ruta_base_original = os.path.join(RUTA_RDD, 'Japan', RUTA_IMAGENES)\n",
    "    ruta_imagen_original = os.path.join(ruta_base_original, nombre_archivo)\n",
    "\n",
    "    return ruta_imagen_original, ruta_imagen_destino\n",
    "\n",
    "def muestrear_dataset_desde_etiquetas(factor_escala:float, lista_anotaciones: typing.List[str]):    \n",
    "    anotaciones_mezcladas = lista_anotaciones.copy()\n",
    "    np.random.shuffle(anotaciones_mezcladas)\n",
    "    print(anotaciones_mezcladas[0])\n",
    "    anotaciones_reducidas = anotaciones_mezcladas[:floor(len(lista_anotaciones)*factor_escala)]\n",
    "    print(f'Cantidad imagenes en dataset reducido: {len(anotaciones_reducidas)}')\n",
    "    \n",
    "    for ruta_anotacion in anotaciones_reducidas:\n",
    "        ruta_anotacion:str\n",
    "        ruta_base_anotacion_destino, nombre_archivo = os.path.split(ruta_anotacion)\n",
    "        ruta_base_anotacion_destino = ruta_base_anotacion_destino.replace('Japan', 'Japan_reduced')\n",
    "        ruta_anotacion_destino = os.path.join(ruta_base_anotacion_destino, nombre_archivo)\n",
    "        shutil.copy(ruta_anotacion, ruta_anotacion_destino)\n",
    "    \n",
    "        ruta_img_original, ruta_img_destino = ruta_imagen_desde_ruta_anotacion(ruta_anotacion)    \n",
    "        shutil.copy(ruta_img_original, ruta_img_destino)"
   ]
  },
  {
   "cell_type": "code",
   "execution_count": null,
   "id": "c44b516c",
   "metadata": {},
   "outputs": [],
   "source": [
    "\n",
    "# anotaciones_con_etiquetas = anotaciones.copy()\n",
    "# [anotaciones_con_etiquetas.remove(anotacion_sin_etiquetas) for anotacion_sin_etiquetas in anotaciones_sin_etiquetas]\n",
    "# muestrear_dataset_desde_etiquetas(factor_escala=0.15, lista_anotaciones=anotaciones_con_etiquetas)\n",
    "    "
   ]
  }
 ],
 "metadata": {
  "kernelspec": {
   "display_name": "Python 3.9 for Object Detection",
   "language": "python",
   "name": "object_detection"
  },
  "language_info": {
   "codemirror_mode": {
    "name": "ipython",
    "version": 3
   },
   "file_extension": ".py",
   "mimetype": "text/x-python",
   "name": "python",
   "nbconvert_exporter": "python",
   "pygments_lexer": "ipython3",
   "version": "3.9.13"
  }
 },
 "nbformat": 4,
 "nbformat_minor": 5
}
