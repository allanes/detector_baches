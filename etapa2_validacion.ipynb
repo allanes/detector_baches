{
 "cells": [
  {
   "cell_type": "markdown",
   "metadata": {},
   "source": [
    "## Entrenamiento. Inferencia y Exportación"
   ]
  },
  {
   "cell_type": "markdown",
   "metadata": {},
   "source": [
    "### Inferencia"
   ]
  },
  {
   "cell_type": "code",
   "execution_count": 1,
   "metadata": {},
   "outputs": [],
   "source": [
    "from enum import Enum\n",
    "from dataclasses import dataclass\n",
    "\n",
    "class VersionesYolo(Enum):\n",
    "    YOLOV5 = \"yolov5\"\n",
    "    YOLOV7 = \"yolov7\"\n",
    "    \n",
    "class VersionesDataset(Enum):\n",
    "    V1 = 'custom_cfg/data_v1.yaml'\n",
    "    V4 = 'custom_cfg/data_v4.yaml'\n",
    "\n",
    "@dataclass\n",
    "class ModeloInfo():\n",
    "    nombre: str\n",
    "    pesos: str\n",
    "    yolo_version: str\n",
    "    dataset_info: str\n",
    "    \n",
    "modelos = []\n"
   ]
  },
  {
   "cell_type": "code",
   "execution_count": 5,
   "metadata": {},
   "outputs": [],
   "source": [
    "modelos.append(ModeloInfo(\n",
    "    nombre='yolov5s_1',\n",
    "    pesos='corridas/mejores/exp5/weights/best.pt',\n",
    "    yolo_version=VersionesYolo.YOLOV5.value,\n",
    "    dataset_info = VersionesDataset.V1.value\n",
    "))\n",
    "\n",
    "modelos.append(ModeloInfo(\n",
    "    nombre='yolov7_1',\n",
    "    pesos='corridas/mejores/exp6/weights/best.pt',\n",
    "    yolo_version=VersionesYolo.YOLOV7.value,\n",
    "    dataset_info = VersionesDataset.V1.value\n",
    "))\n",
    "\n",
    "modelos.append(ModeloInfo(\n",
    "    nombre='yolov5l_1',\n",
    "    pesos='corridas/mejores/exp8/weights/best.pt',\n",
    "    yolo_version=VersionesYolo.YOLOV5.value,\n",
    "    dataset_info = VersionesDataset.V1.value\n",
    "))\n",
    "\n",
    "modelos.append(ModeloInfo(\n",
    "    nombre='yolov7_2',\n",
    "    pesos='corridas/mejores/exp11/weights/best.pt',\n",
    "    yolo_version=VersionesYolo.YOLOV7.value,\n",
    "    dataset_info = VersionesDataset.V4.value\n",
    "))\n",
    "\n",
    "modelos.append(ModeloInfo(\n",
    "    nombre='yolov5l_2',\n",
    "    pesos='corridas/mejores/exp18/weights/best.pt',\n",
    "    yolo_version=VersionesYolo.YOLOV5.value,\n",
    "    dataset_info = VersionesDataset.V4.value\n",
    "))"
   ]
  },
  {
   "cell_type": "code",
   "execution_count": null,
   "metadata": {},
   "outputs": [],
   "source": [
    "fuente = 'fuentes/wa_uve.jpeg'\n",
    "\n",
    "CONFIANZA = 0.2\n",
    "IOU = 0.4\n",
    "CLASES = '3 4'\n",
    "\n",
    "print('Ejecutar lo siguiente con el ambiente activado')\n",
    "\n",
    "for idx, modelo in enumerate(modelos):\n",
    "    print(f'\\n-Modelo {idx}: {modelo.nombre}')\n",
    "    print(f'python {modelo.yolo_version}/detect.py --weights {modelo.pesos} --data {modelo.dataset_info} --source {fuente} --conf-thres {CONFIANZA} --iou-thres {IOU} --classes {CLASES}')"
   ]
  },
  {
   "cell_type": "markdown",
   "metadata": {},
   "source": [
    "### Exportación"
   ]
  },
  {
   "cell_type": "markdown",
   "metadata": {},
   "source": [
    "Requerimientos: \n",
    "1. Descomentar la sección `Export` de yolovX/requirements.txt\n",
    "2. pip install -r yolovX/requirements.txt"
   ]
  },
  {
   "cell_type": "code",
   "execution_count": null,
   "metadata": {},
   "outputs": [],
   "source": [
    "!python $modelo.yolo_version/export.py --weights $modelo.pesos --include torchscript onnx"
   ]
  }
 ],
 "metadata": {
  "kernelspec": {
   "display_name": "Python 3.10.7 64-bit ('.venv': venv)",
   "language": "python",
   "name": "python3"
  },
  "language_info": {
   "codemirror_mode": {
    "name": "ipython",
    "version": 3
   },
   "file_extension": ".py",
   "mimetype": "text/x-python",
   "name": "python",
   "nbconvert_exporter": "python",
   "pygments_lexer": "ipython3",
   "version": "3.10.7"
  },
  "orig_nbformat": 4,
  "vscode": {
   "interpreter": {
    "hash": "b1100b4e16d94e1fa4a3c2cd9e932f3303ece89bcdfac8a154b6ba324856ce33"
   }
  }
 },
 "nbformat": 4,
 "nbformat_minor": 2
}
