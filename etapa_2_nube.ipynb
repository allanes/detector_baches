{
 "cells": [
  {
   "cell_type": "code",
   "execution_count": 3,
   "metadata": {},
   "outputs": [
    {
     "name": "stdout",
     "output_type": "stream",
     "text": [
      "Ejecutar:\n",
      "python ./yolov5/train.py --img 512 --batch 10 --epochs 10 --data ./data.yaml --weights pretrained_models/yolov5s_weights.pb --cfg ./custom_yolov5s.yaml\n"
     ]
    }
   ],
   "source": [
    "ESCALADO_IMAGEN = 512\n",
    "EPOCAS = 10\n",
    "DATA_YAML = './data.yaml'\n",
    "ARCHIVO_PESOS = PATH_TO_CKPT\n",
    "# ARCHIVO_PESOS = 'runs/train/exp3/weights/last.pt'\n",
    "CONFIG_YAML = './custom_yolov5s.yaml'\n",
    "cadena = f'python ./yolov5/train.py --img {ESCALADO_IMAGEN} --batch {NUM_CLASSES} --epochs {EPOCAS} --data {DATA_YAML} --weights {ARCHIVO_PESOS} --cfg {CONFIG_YAML}'\n",
    "print('Ejecutar:')\n",
    "print(cadena)"
   ]
  },
  {
   "cell_type": "code",
   "execution_count": null,
   "metadata": {},
   "outputs": [],
   "source": [
    "from google.colab import drive\n",
    "drive.mount('/content/gdrive')"
   ]
  },
  {
   "cell_type": "code",
   "execution_count": null,
   "metadata": {},
   "outputs": [],
   "source": [
    "!git clone https://github.com/ultralytics/yolov5  # clone repo\n",
    "# !pip install -U -r yolov5/requirements.txt  # install dependencies"
   ]
  },
  {
   "cell_type": "code",
   "execution_count": null,
   "metadata": {},
   "outputs": [],
   "source": [
    "#installing for google colab GPU use\n",
    "!pip install torch==1.6.0+cu101 torchvision==0.7.0+cu101 -f https://download.pytorch.org/whl/torch_stable.html\n",
    "\n",
    "import torch\n",
    "from IPython.display import Image  # for displaying images\n",
    "from utils.google_utils import gdrive_download  # for downloading models/datasets\n",
    "\n",
    "print('Using torch %s %s' % (torch.__version__, torch.cuda.get_device_properties(0) if torch.cuda.is_available() else 'CPU'))"
   ]
  },
  {
   "cell_type": "code",
   "execution_count": null,
   "metadata": {},
   "outputs": [],
   "source": [
    "# !pip install roboflow\n",
    "\n",
    "from roboflow import Roboflow\n",
    "rf = Roboflow(api_key=\"IJecFkcV6NhRpgEGvScc\")\n",
    "project = rf.workspace(\"detectorbaches\").project(\"detector_baches\")\n",
    "dataset = project.version(1).download(\"yolov5\")"
   ]
  },
  {
   "cell_type": "code",
   "execution_count": null,
   "metadata": {},
   "outputs": [],
   "source": [
    "# Check config\n",
    "!type yolov5\\data.yaml\n",
    "!type yolov5\\models\\yolov5s.yaml\n"
   ]
  },
  {
   "cell_type": "code",
   "execution_count": null,
   "metadata": {},
   "outputs": [],
   "source": [
    "# train yolov5s on Aquarium object detection data for 100 epochs [aroung 1000 epochs for better training and result]\n",
    "# NOTE: All the images are already pre-processed to 416 x 416 size.\n",
    "# We will be training for 100 epoch (increase it for better result) with batch size of 80\n",
    "# data.yaml also contains the information about location of Train and Validation Data. That's how you get the train data.\n",
    "# the training also requires the configuration of neural network, which is in custom_yolov5s.yaml\n",
    "# weights will be by-default stored at /content/yolov5/runs/exp2/weights/best.pt\n",
    "# time its performance\n",
    "%%time\n",
    "\n",
    "%cd /content/yolov5/\n",
    "!python train.py --img 416 --batch 7 --epochs 1000 --data './data.yaml' --cfg ./models/custom_yolov5s.yaml --weights './yolov5s_weights.pt'"
   ]
  },
  {
   "cell_type": "code",
   "execution_count": null,
   "metadata": {},
   "outputs": [],
   "source": [
    "# Start tensorboard\n",
    "# Launch after you have started training to all the graphs needed for inspection\n",
    "# logs save in the folder \"runs\"\n",
    "%load_ext tensorboard\n",
    "%tensorboard --logdir /content/yolov5/runs"
   ]
  }
 ],
 "metadata": {
  "kernelspec": {
   "display_name": "Python 3.9.13 64-bit ('object_detection': conda)",
   "language": "python",
   "name": "python3"
  },
  "language_info": {
   "codemirror_mode": {
    "name": "ipython",
    "version": 3
   },
   "file_extension": ".py",
   "mimetype": "text/x-python",
   "name": "python",
   "nbconvert_exporter": "python",
   "pygments_lexer": "ipython3",
   "version": "3.9.13"
  },
  "orig_nbformat": 4,
  "vscode": {
   "interpreter": {
    "hash": "1cd0deddd348c527b562bd3d4c44d891f3a934129a3ca56cc41c73545b5f78dd"
   }
  }
 },
 "nbformat": 4,
 "nbformat_minor": 2
}
